{
  "nbformat": 4,
  "nbformat_minor": 0,
  "metadata": {
    "colab": {
      "provenance": [],
      "authorship_tag": "ABX9TyOYlQ/usd8pIlsT7k3Bg0QH",
      "include_colab_link": true
    },
    "kernelspec": {
      "name": "python3",
      "display_name": "Python 3"
    },
    "language_info": {
      "name": "python"
    }
  },
  "cells": [
    {
      "cell_type": "markdown",
      "metadata": {
        "id": "view-in-github",
        "colab_type": "text"
      },
      "source": [
        "<a href=\"https://colab.research.google.com/github/Brandon302/Programas-estructura-de-datos/blob/main/31_08_2022_1.ipynb\" target=\"_parent\"><img src=\"https://colab.research.google.com/assets/colab-badge.svg\" alt=\"Open In Colab\"/></a>"
      ]
    },
    {
      "cell_type": "markdown",
      "source": [
        "practica de Areglos, Extend y range "
      ],
      "metadata": {
        "id": "JAU4rb_73JsD"
      }
    },
    {
      "cell_type": "code",
      "execution_count": null,
      "metadata": {
        "id": "1lu3v40T2D1e"
      },
      "outputs": [],
      "source": [
        "numeros = [2.1, 2.5, 3.6]"
      ]
    },
    {
      "cell_type": "code",
      "source": [
        "print(numeros)"
      ],
      "metadata": {
        "colab": {
          "base_uri": "https://localhost:8080/"
        },
        "id": "N_7L_yQr2OIl",
        "outputId": "9542a46f-9545-4f0e-e97b-533e503a24c0"
      },
      "execution_count": null,
      "outputs": [
        {
          "output_type": "stream",
          "name": "stdout",
          "text": [
            "[2.1, 2.5, 3.6]\n"
          ]
        }
      ]
    },
    {
      "cell_type": "code",
      "source": [
        "numeros.extend([4])\n",
        "print(numeros)"
      ],
      "metadata": {
        "colab": {
          "base_uri": "https://localhost:8080/"
        },
        "id": "Pvs3svZA2WXw",
        "outputId": "1f36805a-8de2-4c47-e1d0-f9305576c8af"
      },
      "execution_count": null,
      "outputs": [
        {
          "output_type": "stream",
          "name": "stdout",
          "text": [
            "[2.1, 2.5, 3.6, 4]\n"
          ]
        }
      ]
    },
    {
      "cell_type": "markdown",
      "source": [
        "Extend sirve para extender el areglo "
      ],
      "metadata": {
        "id": "gMvG6BEV3WdH"
      }
    },
    {
      "cell_type": "code",
      "source": [
        "numeros.extend(range(5,7))\n",
        "print(numeros)"
      ],
      "metadata": {
        "colab": {
          "base_uri": "https://localhost:8080/"
        },
        "id": "_gIjRO4j2wuJ",
        "outputId": "010dbef5-9371-467a-9ead-75ecba4ec2f4"
      },
      "execution_count": null,
      "outputs": [
        {
          "output_type": "stream",
          "name": "stdout",
          "text": [
            "[2.1, 2.5, 3.6, 5, 6]\n"
          ]
        }
      ]
    },
    {
      "cell_type": "markdown",
      "source": [
        "EL extend y el range sirve para extender de un numero a otro"
      ],
      "metadata": {
        "id": "FNUe-o5N3fgT"
      }
    }
  ]
}