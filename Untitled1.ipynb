{
  "nbformat": 4,
  "nbformat_minor": 0,
  "metadata": {
    "colab": {
      "name": "Untitled1.ipynb",
      "provenance": [],
      "authorship_tag": "ABX9TyO+huznf42inF7+Y7ShorN3",
      "include_colab_link": true
    },
    "kernelspec": {
      "name": "python3",
      "display_name": "Python 3"
    },
    "language_info": {
      "name": "python"
    }
  },
  "cells": [
    {
      "cell_type": "markdown",
      "metadata": {
        "id": "view-in-github",
        "colab_type": "text"
      },
      "source": [
        "<a href=\"https://colab.research.google.com/github/Brandon302/Programas-estructura-de-datos/blob/main/Untitled1.ipynb\" target=\"_parent\"><img src=\"https://colab.research.google.com/assets/colab-badge.svg\" alt=\"Open In Colab\"/></a>"
      ]
    },
    {
      "cell_type": "code",
      "execution_count": null,
      "metadata": {
        "colab": {
          "base_uri": "https://localhost:8080/"
        },
        "id": "9YCHQ3TeTz60",
        "outputId": "c86e36c8-edc1-4efd-ad80-62514408133b"
      },
      "outputs": [
        {
          "output_type": "stream",
          "name": "stdout",
          "text": [
            "['COMO', 'ESTAN', 'MIS', 'COMPAS']\n",
            "las dos fraces son iguales\n",
            "las palabra son igual es  COMO\n",
            "las palabra son igual es  ESTAN\n"
          ]
        }
      ],
      "source": [
        "texto= \"COMO ESTAN MIS COMPAS\"\n",
        "x=texto.split()\n",
        "print(x)\n",
        "texto2= \"COMO ESTAN MAESTROS \"\n",
        "x2=texto2.split()\n",
        "print(\"las dos fraces son iguales\")\n",
        "if x[0]==x2[0] or x[0]==x2[1] or x[0]==x2[2]:\n",
        "  print(\"las palabra son igual es \", x[0])\n",
        "if x[1]==x2[0] or x[1]==x2[1] or x[1]==x2[2]:\n",
        "  print(\"las palabra son igual es \", x[1])\n",
        "if x[2]==x2[0] or x[2]==x2[1] or x[2]==x2[2]:\n",
        "  print(\"las palabra son igual es \", x[2])\n",
        "                                                                                                                                                                                                                                            "
      ]
    },
    {
      "cell_type": "markdown",
      "source": [
        "##Este Programa fue elaborado Por Brandon Ruiz Silvestre## "
      ],
      "metadata": {
        "id": "uPuV0Zyir3sQ"
      }
    },
    {
      "cell_type": "markdown",
      "source": [
        "###Practica de comparacion de vectores, Elaborado Brandon Ruiz Silvestre 22/08/2022###\n",
        "\n"
      ],
      "metadata": {
        "id": "LdLVAG-WYL7W"
      }
    },
    {
      "cell_type": "markdown",
      "source": [
        "Algoridmo \n",
        "1.   Como primer paso vamos a capturar un texto\n",
        "2.   Vamos a comprara el texto con otro vector.\n",
        "3.   Texto = Como estan mis compas\n",
        "\n"
      ],
      "metadata": {
        "id": "HV-4hcyOZmNE"
      }
    }
  ]
}