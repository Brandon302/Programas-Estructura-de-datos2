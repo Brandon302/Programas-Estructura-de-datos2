{
  "nbformat": 4,
  "nbformat_minor": 0,
  "metadata": {
    "colab": {
      "provenance": [],
      "authorship_tag": "ABX9TyM5O58J28sd7kA6rgqpB6Lx",
      "include_colab_link": true
    },
    "kernelspec": {
      "name": "python3",
      "display_name": "Python 3"
    },
    "language_info": {
      "name": "python"
    }
  },
  "cells": [
    {
      "cell_type": "markdown",
      "metadata": {
        "id": "view-in-github",
        "colab_type": "text"
      },
      "source": [
        "<a href=\"https://colab.research.google.com/github/Brandon302/Programas-estructura-de-datos/blob/main/31_08_2022.ipynb\" target=\"_parent\"><img src=\"https://colab.research.google.com/assets/colab-badge.svg\" alt=\"Open In Colab\"/></a>"
      ]
    },
    {
      "cell_type": "markdown",
      "source": [
        "##Practica de Areglos, Append Y Count \n",
        "Elaborado por Brandon Ruiz Silvestre "
      ],
      "metadata": {
        "id": "wtR5Qq5w1npl"
      }
    },
    {
      "cell_type": "code",
      "execution_count": null,
      "metadata": {
        "id": "DIxUgnmuzsvd"
      },
      "outputs": [],
      "source": [
        "numeros= [2.1,2.5, 3.6, 4, 5, 5]"
      ]
    },
    {
      "cell_type": "code",
      "source": [
        "print(numeros)"
      ],
      "metadata": {
        "colab": {
          "base_uri": "https://localhost:8080/"
        },
        "id": "ttHnz1Pyz7bw",
        "outputId": "2a2ab1c9-a784-4809-814e-1b4c0276c8eb"
      },
      "execution_count": null,
      "outputs": [
        {
          "output_type": "stream",
          "name": "stdout",
          "text": [
            "[2.1, 2.5, 3.6, 4, 5, 6]\n"
          ]
        }
      ]
    },
    {
      "cell_type": "code",
      "source": [
        "numeros.append(6)\n",
        "print(numeros)"
      ],
      "metadata": {
        "colab": {
          "base_uri": "https://localhost:8080/"
        },
        "id": "JrkU8_jq0A5A",
        "outputId": "36764d2b-ceae-4f47-ee4e-4a9633958fd5"
      },
      "execution_count": null,
      "outputs": [
        {
          "output_type": "stream",
          "name": "stdout",
          "text": [
            "[2.1, 2.5, 3.6, 4, 5, 6, 6]\n"
          ]
        }
      ]
    },
    {
      "cell_type": "markdown",
      "source": [
        "append es para agregar un elemento a el areglo"
      ],
      "metadata": {
        "id": "xQwpcjP80mBb"
      }
    },
    {
      "cell_type": "code",
      "source": [
        "numeros. count(6)"
      ],
      "metadata": {
        "colab": {
          "base_uri": "https://localhost:8080/"
        },
        "id": "wbS0Glxr0MZ9",
        "outputId": "ddfecd72-7dfb-4f64-897b-8733efe73117"
      },
      "execution_count": null,
      "outputs": [
        {
          "output_type": "execute_result",
          "data": {
            "text/plain": [
              "2"
            ]
          },
          "metadata": {},
          "execution_count": 8
        }
      ]
    },
    {
      "cell_type": "markdown",
      "source": [
        "Count es para contar cuentas veces, se encuentan en el areglo."
      ],
      "metadata": {
        "id": "2xxzdh-_0dHU"
      }
    },
    {
      "cell_type": "code",
      "source": [
        "numeros.count(5)"
      ],
      "metadata": {
        "colab": {
          "base_uri": "https://localhost:8080/"
        },
        "id": "q9dm4km-0V4S",
        "outputId": "b76ba4b4-2249-4f96-84e1-4fd4ac4af3d7"
      },
      "execution_count": null,
      "outputs": [
        {
          "output_type": "execute_result",
          "data": {
            "text/plain": [
              "1"
            ]
          },
          "metadata": {},
          "execution_count": 9
        }
      ]
    }
  ]
}